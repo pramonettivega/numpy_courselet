{
 "cells": [
  {
   "cell_type": "markdown",
   "id": "cb4fe917-9173-48c6-a000-289564649b86",
   "metadata": {},
   "source": [
    "# Getting Started with NumPy - Module 2\n",
    "\n",
    "In the previous module, we explored some basic transformations like slicing and returning arrays based on conditions. In this module, we are going to explore deeper by performing algebra functions to our arrays, as well as to explore how to perform linear algebra operations. By the end of this courselet you will be able to:\n",
    "\n",
    "* Learn how transformations\n",
    "* Use functions to perform operations and transform arrays\n",
    "* Perform linear algebra operations on arrays"
   ]
  },
  {
   "cell_type": "markdown",
   "id": "1e61c7f5-7ac7-4ba0-8fe2-b79b25a2c61e",
   "metadata": {},
   "source": [
    "## Array Operations"
   ]
  },
  {
   "cell_type": "code",
   "execution_count": 1,
   "id": "95abb8e0-73bf-4fcd-bd81-070aa06a0da5",
   "metadata": {},
   "outputs": [],
   "source": [
    "import numpy as np"
   ]
  },
  {
   "cell_type": "code",
   "execution_count": 17,
   "id": "1696bde9-ff48-4ed4-bf10-d88cad340e87",
   "metadata": {},
   "outputs": [
    {
     "name": "stdout",
     "output_type": "stream",
     "text": [
      "Array a: [0 1 2 3 4 5 6 7 8 9]\n",
      "Array b: [-5 -4 -3 -2 -1  0  1  2  3  4]\n",
      "Array twoD_a:\n",
      " [[ 1  2  3  4]\n",
      " [ 5  6  7  8]\n",
      " [ 9 10 11 12]]\n",
      "Array twoD_b:\n",
      " [[2 2 2]\n",
      " [2 2 2]\n",
      " [2 2 2]]\n"
     ]
    }
   ],
   "source": [
    "# Let's first create a couple of simple arrays to start working on\n",
    "a = np.arange(10)\n",
    "b = np.arange(-5,5)\n",
    "twoD_a = np.array([[1 , 2, 3, 4], [5, 6, 7, 8], [9, 10, 11, 12]])\n",
    "twoD_b = np.full((3,3),2)\n",
    "print(f\"Array a: {a}\")\n",
    "print(f\"Array b: {b}\")\n",
    "print(f\"Array twoD_a:\\n {twoD_a}\")\n",
    "print(f\"Array twoD_b:\\n {twoD_b}\")"
   ]
  },
  {
   "cell_type": "code",
   "execution_count": 20,
   "id": "76e222ff-c296-42af-acfc-4005fed21297",
   "metadata": {},
   "outputs": [
    {
     "name": "stdout",
     "output_type": "stream",
     "text": [
      "[ 3  4  5  6  7  8  9 10 11 12]\n",
      "[ 0  2  4  6  8 10 12 14 16 18]\n",
      "[0 1 0 1 0 1 0 1 0 1]\n",
      "\n",
      "\n",
      "[[ 4  5  6  7]\n",
      " [ 8  9 10 11]\n",
      " [12 13 14 15]]\n",
      "[[ 2  4  6  8]\n",
      " [10 12 14 16]\n",
      " [18 20 22 24]]\n",
      "[[1 0 1 0]\n",
      " [1 0 1 0]\n",
      " [1 0 1 0]]\n"
     ]
    }
   ],
   "source": [
    "# Simple operations in one array\n",
    "print(a+3) # Addition of a value to all the elements of an array\n",
    "print(a*2) # Multiplication to all elements of an array\n",
    "print(a%2) # Return the residual of each element after dividing by 2\n",
    "# Simple operations in twoD array\n",
    "print(\"\\n\")\n",
    "print(twoD_a+3) # Addition of a value to all the elements of an array\n",
    "print(twoD_a*2) # Multiplication to all elements of an array\n",
    "print(twoD_a%2) # Return the residual of each element after dividing by 2"
   ]
  },
  {
   "cell_type": "markdown",
   "id": "b9165a26-abe3-4140-8113-f52d6fb44903",
   "metadata": {},
   "source": [
    "## Linear Algebra"
   ]
  },
  {
   "cell_type": "code",
   "execution_count": 29,
   "id": "54842326-e92c-4905-b083-8d6c4368a026",
   "metadata": {},
   "outputs": [
    {
     "name": "stdout",
     "output_type": "stream",
     "text": [
      "[[ 0  1  2  3]\n",
      " [ 4  5  6  7]\n",
      " [ 8  9 10 11]]\n"
     ]
    }
   ],
   "source": [
    "matrix_1 = np.arange(12)\n",
    "matrix_1.resize(3,4)\n",
    "print(matrix_1)\n",
    "matrix_2 = np.arange()"
   ]
  },
  {
   "cell_type": "markdown",
   "id": "d91a3b2d-c699-484a-b6d4-4aad6ba535af",
   "metadata": {},
   "source": [
    "In a conventional NumPy multiplication, we could perform the following operation."
   ]
  }
 ],
 "metadata": {
  "kernelspec": {
   "display_name": "Python 3 (ipykernel)",
   "language": "python",
   "name": "python3"
  },
  "language_info": {
   "codemirror_mode": {
    "name": "ipython",
    "version": 3
   },
   "file_extension": ".py",
   "mimetype": "text/x-python",
   "name": "python",
   "nbconvert_exporter": "python",
   "pygments_lexer": "ipython3",
   "version": "3.11.6"
  }
 },
 "nbformat": 4,
 "nbformat_minor": 5
}
