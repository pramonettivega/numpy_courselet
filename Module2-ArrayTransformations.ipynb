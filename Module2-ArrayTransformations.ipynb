{
 "cells": [
  {
   "cell_type": "markdown",
   "id": "cb4fe917-9173-48c6-a000-289564649b86",
   "metadata": {},
   "source": [
    "# Getting Started with NumPy - Module 2\n",
    "\n",
    "In the previous module, we explored some basic transformations like slicing and returning arrays based on conditions. In this module, we are going to explore deeper by performing algebra functions to our arrays, as well as to explore how to perform linear algebra operations. By the end of this courselet you will be able to:\n",
    "\n",
    "* Learn how different transformations affect our arrays\n",
    "* Use functions to perform operations and transform arrays\n",
    "* Perform linear algebra operations on arrays"
   ]
  },
  {
   "cell_type": "code",
   "execution_count": 2,
   "id": "95abb8e0-73bf-4fcd-bd81-070aa06a0da5",
   "metadata": {},
   "outputs": [],
   "source": [
    "import numpy as np"
   ]
  },
  {
   "cell_type": "code",
   "execution_count": 3,
   "id": "1696bde9-ff48-4ed4-bf10-d88cad340e87",
   "metadata": {},
   "outputs": [
    {
     "name": "stdout",
     "output_type": "stream",
     "text": [
      "Array a: [0 1 2 3 4 5 6 7 8 9]\n",
      "\n",
      "Array b: [-5 -4 -3 -2 -1  0  1  2  3  4]\n",
      "\n",
      "Array twoD_a:\n",
      " [[ 1  2  3  4]\n",
      " [ 5  6  7  8]\n",
      " [ 9 10 11 12]]\n",
      "\n",
      "Array twoD_b:\n",
      " [[2 2 2]\n",
      " [2 2 2]\n",
      " [2 2 2]]\n",
      "\n"
     ]
    }
   ],
   "source": [
    "# Let's first create a couple of simple arrays to start working on\n",
    "a = np.arange(10)\n",
    "b = np.arange(-5,5)\n",
    "twoD_a = np.array([[1 , 2, 3, 4], [5, 6, 7, 8], [9, 10, 11, 12]])\n",
    "twoD_b = np.full((3,3),2)\n",
    "print(f\"Array a: {a}\\n\")\n",
    "print(f\"Array b: {b}\\n\")\n",
    "print(f\"Array twoD_a:\\n {twoD_a}\\n\")\n",
    "print(f\"Array twoD_b:\\n {twoD_b}\\n\")"
   ]
  },
  {
   "cell_type": "markdown",
   "id": "60e97031-57db-484c-ba3e-c6db4be0a5b3",
   "metadata": {},
   "source": [
    "## Basic Operations\n",
    "\n",
    "Basic operations on Numpy Arrays are elementwise. This means that our operations affect one element of the array at a time. Let's take a brief look at some examples.\n",
    "\n",
    "- Adding a value to all the elements of an array"
   ]
  },
  {
   "cell_type": "code",
   "execution_count": 3,
   "id": "8cdc3da1-fb6b-43df-9502-397ea280f8ea",
   "metadata": {},
   "outputs": [
    {
     "data": {
      "text/plain": [
       "array([ 3,  4,  5,  6,  7,  8,  9, 10, 11, 12])"
      ]
     },
     "execution_count": 3,
     "metadata": {},
     "output_type": "execute_result"
    }
   ],
   "source": [
    "a+3"
   ]
  },
  {
   "cell_type": "markdown",
   "id": "4e4fe342-6d2b-492c-b65d-9a5f74ec414e",
   "metadata": {},
   "source": [
    "- Multiplying all elements of an array by the same factor"
   ]
  },
  {
   "cell_type": "code",
   "execution_count": 4,
   "id": "8271e546-c660-43c9-9243-a6418d37a958",
   "metadata": {},
   "outputs": [
    {
     "data": {
      "text/plain": [
       "array([ 0,  2,  4,  6,  8, 10, 12, 14, 16, 18])"
      ]
     },
     "execution_count": 4,
     "metadata": {},
     "output_type": "execute_result"
    }
   ],
   "source": [
    "a*2"
   ]
  },
  {
   "cell_type": "code",
   "execution_count": 5,
   "id": "76e222ff-c296-42af-acfc-4005fed21297",
   "metadata": {},
   "outputs": [
    {
     "name": "stdout",
     "output_type": "stream",
     "text": [
      "[0 1 0 1 0 1 0 1 0 1]\n",
      "\n",
      "\n",
      "[[ 4  5  6  7]\n",
      " [ 8  9 10 11]\n",
      " [12 13 14 15]]\n",
      "[[ 2  4  6  8]\n",
      " [10 12 14 16]\n",
      " [18 20 22 24]]\n",
      "[[1 0 1 0]\n",
      " [1 0 1 0]\n",
      " [1 0 1 0]]\n"
     ]
    }
   ],
   "source": [
    "\n",
    "\n",
    "print(a%2) # Return the residual of each element after dividing by 2\n",
    "# Simple operations in twoD array\n",
    "print(\"\\n\")\n",
    "print(twoD_a+3) # Addition of a value to all the elements of an array\n",
    "print(twoD_a*2) # Multiplication to all elements of an array\n",
    "print(twoD_a%2) # Return the residual of each element after dividing by 2"
   ]
  },
  {
   "cell_type": "markdown",
   "id": "47729134-69ee-4852-8695-273b6e7d2063",
   "metadata": {},
   "source": [
    "## Unary Functions\n",
    "\n",
    "Another common type of operations we can perform on our arrays is the use of pre-defined unary functions, which are also elementwise. Let's look a few examples.\n",
    "\n",
    "- Square Root"
   ]
  },
  {
   "cell_type": "code",
   "execution_count": 6,
   "id": "7f5ffd12-d028-42e3-906c-17e2c2a06fe9",
   "metadata": {},
   "outputs": [
    {
     "data": {
      "text/plain": [
       "array([0.        , 1.        , 1.41421356, 1.73205081, 2.        ,\n",
       "       2.23606798, 2.44948974, 2.64575131, 2.82842712, 3.        ])"
      ]
     },
     "execution_count": 6,
     "metadata": {},
     "output_type": "execute_result"
    }
   ],
   "source": [
    "np.sqrt(a)"
   ]
  },
  {
   "cell_type": "markdown",
   "id": "a441bec3-4a26-4550-8bf0-fa587e8d1121",
   "metadata": {},
   "source": [
    "- Exponential Function"
   ]
  },
  {
   "cell_type": "code",
   "execution_count": 7,
   "id": "58515e03-a2af-4a00-93f7-9108ebc96192",
   "metadata": {},
   "outputs": [
    {
     "data": {
      "text/plain": [
       "array([1.00000000e+00, 2.71828183e+00, 7.38905610e+00, 2.00855369e+01,\n",
       "       5.45981500e+01, 1.48413159e+02, 4.03428793e+02, 1.09663316e+03,\n",
       "       2.98095799e+03, 8.10308393e+03])"
      ]
     },
     "execution_count": 7,
     "metadata": {},
     "output_type": "execute_result"
    }
   ],
   "source": [
    "np.exp(a)"
   ]
  },
  {
   "cell_type": "markdown",
   "id": "cdf15f35-6638-48d0-8315-038a76ce9550",
   "metadata": {},
   "source": [
    "- Logarithmic"
   ]
  },
  {
   "cell_type": "code",
   "execution_count": 8,
   "id": "02d2fe2a-9e1b-48fb-9c39-41955e17d4ab",
   "metadata": {},
   "outputs": [
    {
     "data": {
      "text/plain": [
       "array([0.        , 0.69314718, 1.09861229, 1.38629436, 1.60943791,\n",
       "       1.79175947, 1.94591015, 2.07944154, 2.19722458])"
      ]
     },
     "execution_count": 8,
     "metadata": {},
     "output_type": "execute_result"
    }
   ],
   "source": [
    "np.log(a[1:]) # We are omitting the application of the function to the first value as this is not mathematically correct"
   ]
  },
  {
   "cell_type": "markdown",
   "id": "8bc25020-707c-4011-bc2a-270d9e47bfa6",
   "metadata": {},
   "source": [
    "## Reduction Operations\n",
    "\n",
    "We can also perform operations that reduce the number of elements in our array. Let's take a look to a few.\n",
    "\n",
    "- Sum of the elements of an array"
   ]
  },
  {
   "cell_type": "code",
   "execution_count": 9,
   "id": "a2dacc83-2828-43ae-a9bf-15ba7e7f7877",
   "metadata": {},
   "outputs": [
    {
     "data": {
      "text/plain": [
       "45"
      ]
     },
     "execution_count": 9,
     "metadata": {},
     "output_type": "execute_result"
    }
   ],
   "source": [
    "np.sum(a)"
   ]
  },
  {
   "cell_type": "markdown",
   "id": "2d9a4f57-5d65-4e8d-beec-3fa2d7966c3d",
   "metadata": {},
   "source": [
    "- Max value of an array"
   ]
  },
  {
   "cell_type": "code",
   "execution_count": 10,
   "id": "db3506ed-75b7-4e10-86a9-f320dbdfd3db",
   "metadata": {},
   "outputs": [
    {
     "data": {
      "text/plain": [
       "9"
      ]
     },
     "execution_count": 10,
     "metadata": {},
     "output_type": "execute_result"
    }
   ],
   "source": [
    "np.max(a)"
   ]
  },
  {
   "cell_type": "markdown",
   "id": "60dfb3ee-a5f0-4b3e-a403-57615c8b7366",
   "metadata": {},
   "source": [
    "- Mean of the values of an array"
   ]
  },
  {
   "cell_type": "code",
   "execution_count": 11,
   "id": "ace455c8-10c9-4eb6-b6d9-781e00ae4d1f",
   "metadata": {},
   "outputs": [
    {
     "data": {
      "text/plain": [
       "4.5"
      ]
     },
     "execution_count": 11,
     "metadata": {},
     "output_type": "execute_result"
    }
   ],
   "source": [
    "np.mean(a)"
   ]
  },
  {
   "cell_type": "markdown",
   "id": "49f17765-0998-4c3f-9f6f-f2200a4b2c1e",
   "metadata": {},
   "source": [
    "Previous examples only cover the case of 1D arrays returning a single value. In the case of multiple dimensional arrays, we can provide more specifications to our functions to return different results. Let's take a look at this with the **sum** function. "
   ]
  },
  {
   "cell_type": "markdown",
   "id": "c5774e6d-a69d-49e6-9c1c-72f120387577",
   "metadata": {},
   "source": [
    "- Sum of the elements of an array (as previously explored)"
   ]
  },
  {
   "cell_type": "code",
   "execution_count": 12,
   "id": "19c1b2b3-1741-4173-ab93-8dffbf6415de",
   "metadata": {},
   "outputs": [
    {
     "data": {
      "text/plain": [
       "78"
      ]
     },
     "execution_count": 12,
     "metadata": {},
     "output_type": "execute_result"
    }
   ],
   "source": [
    "np.sum(twoD_a) # We sum all the values"
   ]
  },
  {
   "cell_type": "markdown",
   "id": "e4dcf64c-cd4e-4dc8-a2d4-5bed60090e7d",
   "metadata": {},
   "source": [
    "- Sum of the elements of an array, \"column\" wise"
   ]
  },
  {
   "cell_type": "code",
   "execution_count": 13,
   "id": "2adfeadd-d55b-4703-a629-74614077e3ea",
   "metadata": {},
   "outputs": [
    {
     "data": {
      "text/plain": [
       "array([15, 18, 21, 24])"
      ]
     },
     "execution_count": 13,
     "metadata": {},
     "output_type": "execute_result"
    }
   ],
   "source": [
    "np.sum(twoD_a, axis=0) # Each value corresponds to the sum of each \"column\""
   ]
  },
  {
   "cell_type": "markdown",
   "id": "1d51e982-6635-49af-a2b6-da14a18b984c",
   "metadata": {},
   "source": [
    "- Sum of the elements of an array, \"row\" wise"
   ]
  },
  {
   "cell_type": "code",
   "execution_count": 14,
   "id": "cf05f6fd-3034-4b19-b1a9-a6db9f0f4f46",
   "metadata": {},
   "outputs": [
    {
     "data": {
      "text/plain": [
       "array([10, 26, 42])"
      ]
     },
     "execution_count": 14,
     "metadata": {},
     "output_type": "execute_result"
    }
   ],
   "source": [
    "np.sum(twoD_a, axis=1) # Each value corresponds to the sum of each \"row\""
   ]
  },
  {
   "cell_type": "markdown",
   "id": "465aca01-4f16-414e-83e3-27f394bfd6e1",
   "metadata": {},
   "source": [
    "To take a deeper look into the full collection of mathematical operations, you can explore the [source documentation](https://numpy.org/doc/stable/reference/routines.math.html)"
   ]
  },
  {
   "cell_type": "markdown",
   "id": "2cd0064c-b76d-4fb3-8269-b4fe1c424cee",
   "metadata": {},
   "source": [
    "## Logic Operations\n",
    "\n",
    "Another common task is to perform logical operations on NumPy arrays and return an array of booleans with the result of each evaluation.\n",
    "\n",
    "- Elements equal to one value"
   ]
  },
  {
   "cell_type": "code",
   "execution_count": 8,
   "id": "a117608b-77b8-4615-b1ac-e390fe2fef00",
   "metadata": {},
   "outputs": [
    {
     "data": {
      "text/plain": [
       "array([ True, False, False, False, False, False, False, False, False,\n",
       "       False])"
      ]
     },
     "execution_count": 8,
     "metadata": {},
     "output_type": "execute_result"
    }
   ],
   "source": [
    "a==0"
   ]
  },
  {
   "cell_type": "markdown",
   "id": "55fc3a38-6ee1-470f-88c7-181d2625a7ec",
   "metadata": {},
   "source": [
    "- Elements greater than one value"
   ]
  },
  {
   "cell_type": "code",
   "execution_count": 7,
   "id": "828e36db-6bce-4e62-8ae2-846587f19a46",
   "metadata": {},
   "outputs": [
    {
     "data": {
      "text/plain": [
       "array([False,  True,  True,  True,  True,  True,  True,  True,  True,\n",
       "        True])"
      ]
     },
     "execution_count": 7,
     "metadata": {},
     "output_type": "execute_result"
    }
   ],
   "source": [
    "a>0"
   ]
  },
  {
   "cell_type": "markdown",
   "id": "b9165a26-abe3-4140-8113-f52d6fb44903",
   "metadata": {},
   "source": [
    "## Linear Algebra"
   ]
  },
  {
   "cell_type": "markdown",
   "id": "46b3cd58-46ec-407d-9098-14d9a3f3749a",
   "metadata": {},
   "source": [
    "Some of you might have already notice the potential to threat NumPy arrays as vectors and matrices for multiple modeling applications. NumPy possess a series of functions which allows us to perform multiple linear algebra operations. Let's explore some examples in the following cells. You're always invited to discover more functions by exploring the [source documentation](https://numpy.org/doc/stable/reference/routines.linalg.html#module-numpy.linalg).\n",
    "\n",
    "### Vector operations\n",
    "\n",
    "Let's explore some basic vector operations."
   ]
  },
  {
   "cell_type": "markdown",
   "id": "eb1eb7b8-fa54-4d61-a9c2-11b6cf5719fe",
   "metadata": {},
   "source": [
    "- [Dot Product](https://en.wikipedia.org/wiki/Dot_product)"
   ]
  },
  {
   "cell_type": "code",
   "execution_count": 15,
   "id": "028760ce-ddc0-46ff-ab74-f935d54a1f60",
   "metadata": {},
   "outputs": [
    {
     "data": {
      "text/plain": [
       "60"
      ]
     },
     "execution_count": 15,
     "metadata": {},
     "output_type": "execute_result"
    }
   ],
   "source": [
    "np.dot(a,b)"
   ]
  },
  {
   "cell_type": "markdown",
   "id": "b6024c89-4f65-4898-b58b-608f981e0d66",
   "metadata": {},
   "source": [
    "- [Outer Product](https://en.wikipedia.org/wiki/Outer_product)"
   ]
  },
  {
   "cell_type": "code",
   "execution_count": 16,
   "id": "5908f3d5-ae57-4cdb-b6e9-770dcec29594",
   "metadata": {},
   "outputs": [
    {
     "data": {
      "text/plain": [
       "array([[  0,   0,   0,   0,   0,   0,   0,   0,   0,   0],\n",
       "       [ -5,  -4,  -3,  -2,  -1,   0,   1,   2,   3,   4],\n",
       "       [-10,  -8,  -6,  -4,  -2,   0,   2,   4,   6,   8],\n",
       "       [-15, -12,  -9,  -6,  -3,   0,   3,   6,   9,  12],\n",
       "       [-20, -16, -12,  -8,  -4,   0,   4,   8,  12,  16],\n",
       "       [-25, -20, -15, -10,  -5,   0,   5,  10,  15,  20],\n",
       "       [-30, -24, -18, -12,  -6,   0,   6,  12,  18,  24],\n",
       "       [-35, -28, -21, -14,  -7,   0,   7,  14,  21,  28],\n",
       "       [-40, -32, -24, -16,  -8,   0,   8,  16,  24,  32],\n",
       "       [-45, -36, -27, -18,  -9,   0,   9,  18,  27,  36]])"
      ]
     },
     "execution_count": 16,
     "metadata": {},
     "output_type": "execute_result"
    }
   ],
   "source": [
    "np.outer(a,b)"
   ]
  },
  {
   "cell_type": "code",
   "execution_count": 17,
   "id": "31eeb43b-3ca2-4d31-9c2c-a32c9a302f47",
   "metadata": {},
   "outputs": [
    {
     "data": {
      "text/plain": [
       "60"
      ]
     },
     "execution_count": 17,
     "metadata": {},
     "output_type": "execute_result"
    }
   ],
   "source": [
    "# Inner product\n",
    "np.inner(a,b)"
   ]
  },
  {
   "cell_type": "markdown",
   "id": "d91a3b2d-c699-484a-b6d4-4aad6ba535af",
   "metadata": {},
   "source": [
    "### Matrix operations\n",
    "\n",
    "Now, let's take a look at some recurrent matrix operations.\n",
    "\n",
    "In a conventional NumPy multiplication, we can perform a multiplication in which each element is multiplied the corresponding element based on index. We can see that in the following cell:"
   ]
  },
  {
   "cell_type": "code",
   "execution_count": 18,
   "id": "54842326-e92c-4905-b083-8d6c4368a026",
   "metadata": {},
   "outputs": [
    {
     "name": "stdout",
     "output_type": "stream",
     "text": [
      "[[ 0  1  2  3]\n",
      " [ 4  5  6  7]\n",
      " [ 8  9 10 11]]\n",
      "[[12 13 14 15]\n",
      " [16 17 18 19]\n",
      " [20 21 22 23]]\n"
     ]
    }
   ],
   "source": [
    "matrix_1 = np.arange(12)\n",
    "matrix_1.resize(3,4) # Using the resize method directly applies the transformation to our matrix\n",
    "print(matrix_1)\n",
    "matrix_2 = np.arange(12,24).reshape(3,4) # Or we can apply reshape directly\n",
    "print(matrix_2)"
   ]
  },
  {
   "cell_type": "code",
   "execution_count": 19,
   "id": "523b70fa-1376-4f70-8645-a7be732f4d72",
   "metadata": {},
   "outputs": [
    {
     "data": {
      "text/plain": [
       "array([[  0,  13,  28,  45],\n",
       "       [ 64,  85, 108, 133],\n",
       "       [160, 189, 220, 253]])"
      ]
     },
     "execution_count": 19,
     "metadata": {},
     "output_type": "execute_result"
    }
   ],
   "source": [
    "# Conventional array multiplication\n",
    "matrix_1*matrix_2"
   ]
  },
  {
   "cell_type": "markdown",
   "id": "67af3cd8-6e33-428b-b2d1-9f8ec190db68",
   "metadata": {},
   "source": [
    "However, this type of multiplication doesn't follow the rules of linear algebra. To perform a proper matrix multiplication, we must use the *matmul* function."
   ]
  },
  {
   "cell_type": "code",
   "execution_count": 20,
   "id": "21fb3405-c067-42f6-a2f3-e971744b616c",
   "metadata": {},
   "outputs": [
    {
     "ename": "ValueError",
     "evalue": "matmul: Input operand 1 has a mismatch in its core dimension 0, with gufunc signature (n?,k),(k,m?)->(n?,m?) (size 3 is different from 4)",
     "output_type": "error",
     "traceback": [
      "\u001b[1;31m---------------------------------------------------------------------------\u001b[0m",
      "\u001b[1;31mValueError\u001b[0m                                Traceback (most recent call last)",
      "Cell \u001b[1;32mIn[20], line 2\u001b[0m\n\u001b[0;32m      1\u001b[0m \u001b[38;5;66;03m# Matrix multiplication\u001b[39;00m\n\u001b[1;32m----> 2\u001b[0m \u001b[43mnp\u001b[49m\u001b[38;5;241;43m.\u001b[39;49m\u001b[43mmatmul\u001b[49m\u001b[43m(\u001b[49m\u001b[43mmatrix_1\u001b[49m\u001b[43m,\u001b[49m\u001b[43mmatrix_2\u001b[49m\u001b[43m)\u001b[49m\n",
      "\u001b[1;31mValueError\u001b[0m: matmul: Input operand 1 has a mismatch in its core dimension 0, with gufunc signature (n?,k),(k,m?)->(n?,m?) (size 3 is different from 4)"
     ]
    }
   ],
   "source": [
    "# Matrix multiplication\n",
    "np.matmul(matrix_1,matrix_2)"
   ]
  },
  {
   "cell_type": "markdown",
   "id": "4944920c-ae84-432f-aa40-c7a7e71bedea",
   "metadata": {},
   "source": [
    "As you can see, we are getting an error. This is because the number of rows of columns of the first matrix is not equal to the number of rows of the second matrix, a fundamental rule of matrix multiplication. Let's reshape our matrix to perform matrix multiplication."
   ]
  },
  {
   "cell_type": "code",
   "execution_count": 21,
   "id": "53882d43-cf6d-4ebf-bf62-0953dc2c7a58",
   "metadata": {},
   "outputs": [
    {
     "data": {
      "text/plain": [
       "array([[ 56,  59,  62,  65],\n",
       "       [200, 212, 224, 236],\n",
       "       [344, 365, 386, 407],\n",
       "       [488, 518, 548, 578]])"
      ]
     },
     "execution_count": 21,
     "metadata": {},
     "output_type": "execute_result"
    }
   ],
   "source": [
    "# Matrix multiplication\n",
    "matrix_3 = np.reshape(matrix_1,(4,3))\n",
    "np.matmul(matrix_3,matrix_2)"
   ]
  },
  {
   "cell_type": "markdown",
   "id": "5ba9404c-6af6-44ae-bec2-ab9a7ca22971",
   "metadata": {},
   "source": [
    "An opperation that we can actually perform with our original two matrices, is to calculate the [Kronecker product](https://en.wikipedia.org/wiki/Kronecker_product):"
   ]
  },
  {
   "cell_type": "code",
   "execution_count": 22,
   "id": "1df4d67d-f4b0-4ec2-ad65-411df649b2cc",
   "metadata": {},
   "outputs": [
    {
     "data": {
      "text/plain": [
       "array([[  0,   0,   0,   0,  12,  13,  14,  15,  24,  26,  28,  30,  36,\n",
       "         39,  42,  45],\n",
       "       [  0,   0,   0,   0,  16,  17,  18,  19,  32,  34,  36,  38,  48,\n",
       "         51,  54,  57],\n",
       "       [  0,   0,   0,   0,  20,  21,  22,  23,  40,  42,  44,  46,  60,\n",
       "         63,  66,  69],\n",
       "       [ 48,  52,  56,  60,  60,  65,  70,  75,  72,  78,  84,  90,  84,\n",
       "         91,  98, 105],\n",
       "       [ 64,  68,  72,  76,  80,  85,  90,  95,  96, 102, 108, 114, 112,\n",
       "        119, 126, 133],\n",
       "       [ 80,  84,  88,  92, 100, 105, 110, 115, 120, 126, 132, 138, 140,\n",
       "        147, 154, 161],\n",
       "       [ 96, 104, 112, 120, 108, 117, 126, 135, 120, 130, 140, 150, 132,\n",
       "        143, 154, 165],\n",
       "       [128, 136, 144, 152, 144, 153, 162, 171, 160, 170, 180, 190, 176,\n",
       "        187, 198, 209],\n",
       "       [160, 168, 176, 184, 180, 189, 198, 207, 200, 210, 220, 230, 220,\n",
       "        231, 242, 253]])"
      ]
     },
     "execution_count": 22,
     "metadata": {},
     "output_type": "execute_result"
    }
   ],
   "source": [
    "# Kronecker product\n",
    "np.kron(matrix_1,matrix_2)"
   ]
  },
  {
   "cell_type": "code",
   "execution_count": 23,
   "id": "47dc227a-9ec6-4621-b9c8-6f8cc96464de",
   "metadata": {},
   "outputs": [
    {
     "data": {
      "text/plain": [
       "-11.999999999999995"
      ]
     },
     "execution_count": 23,
     "metadata": {},
     "output_type": "execute_result"
    }
   ],
   "source": [
    "# Determinant of a matrix\n",
    "squared_matrix = np.array([[2,2],[5,-1]])\n",
    "np.linalg.det(squared_matrix)"
   ]
  },
  {
   "cell_type": "code",
   "execution_count": 24,
   "id": "7d7528c8-e7cb-42f2-8765-585ef7aa5d29",
   "metadata": {},
   "outputs": [
    {
     "data": {
      "text/plain": [
       "2"
      ]
     },
     "execution_count": 24,
     "metadata": {},
     "output_type": "execute_result"
    }
   ],
   "source": [
    "# Rank of a matrix\n",
    "np.linalg.matrix_rank(squared_matrix)"
   ]
  },
  {
   "cell_type": "code",
   "execution_count": 25,
   "id": "141b89e3-c20c-4418-8ed3-9f62003714b0",
   "metadata": {},
   "outputs": [
    {
     "name": "stdout",
     "output_type": "stream",
     "text": [
      "The eigen values of our squared matrix are [ 4. -3.]\n",
      "The eigen vectors of our squared matrix are [[ 0.70710678 -0.37139068]\n",
      " [ 0.70710678  0.92847669]]\n"
     ]
    }
   ],
   "source": [
    "# Eigen values and eigen vectors - squared matrix\n",
    "eigen_result = np.linalg.eig(squared_matrix)\n",
    "print(f\"The eigen values of our squared matrix are {eigen_result[0]}\")\n",
    "print(f\"The eigen vectors of our squared matrix are {eigen_result[1]}\")"
   ]
  },
  {
   "cell_type": "code",
   "execution_count": 26,
   "id": "61ed23c1-db7b-4b75-b206-ff389455dd17",
   "metadata": {},
   "outputs": [
    {
     "data": {
      "text/plain": [
       "array([[ 0.08333333,  0.16666667],\n",
       "       [ 0.41666667, -0.16666667]])"
      ]
     },
     "execution_count": 26,
     "metadata": {},
     "output_type": "execute_result"
    }
   ],
   "source": [
    "# Inverse of a matrix\n",
    "np.linalg.inv(squared_matrix)"
   ]
  },
  {
   "cell_type": "code",
   "execution_count": 27,
   "id": "a2c869b1-fc57-49c1-b169-520393eb5f0e",
   "metadata": {},
   "outputs": [
    {
     "data": {
      "text/plain": [
       "array([[ 2,  5],\n",
       "       [ 2, -1]])"
      ]
     },
     "execution_count": 27,
     "metadata": {},
     "output_type": "execute_result"
    }
   ],
   "source": [
    "# Transpose of a matrix\n",
    "squared_matrix.T"
   ]
  },
  {
   "cell_type": "markdown",
   "id": "a8c88b43-54f2-46db-a79f-9b7af00790b0",
   "metadata": {},
   "source": [
    "### Solving linear equations\n",
    "\n",
    "We can now leverage what we have learned so far and use NumPy to solve a system of linear equations.\n",
    "\n",
    "Let's say we have the following system of equations: \n",
    "$$\n",
    "2x_1+3x_2=19\n",
    "$$\n",
    "$$\n",
    "x_1+x_2=7\n",
    "$$\n",
    "We can define our system in NumPy as a combination of a matrix containing the coefficients values, and one vector with our results values. Then, we can compute the values of $x_1$ and $x_2$ through the *linalg.solve* function."
   ]
  },
  {
   "cell_type": "code",
   "execution_count": 28,
   "id": "dcda7585-f65a-411d-b6ed-9408186f9c0d",
   "metadata": {},
   "outputs": [
    {
     "data": {
      "text/plain": [
       "array([2., 5.])"
      ]
     },
     "execution_count": 28,
     "metadata": {},
     "output_type": "execute_result"
    }
   ],
   "source": [
    "coeff = np.array([[2,3],[1,1]])\n",
    "r = np.array([19,7])\n",
    "x_vector = np.linalg.solve(coeff,r)\n",
    "x_vector"
   ]
  },
  {
   "cell_type": "markdown",
   "id": "8f928773-073a-4299-8aaa-3ed68ccb6839",
   "metadata": {},
   "source": [
    "Our function solved that $x_1=2$ and $x_2=5$. We can verify our results computing the dot product between our x's vector and the coefficients matrix, and comparing the resulting vector with our results vector."
   ]
  },
  {
   "cell_type": "code",
   "execution_count": 29,
   "id": "db4cd405-105b-4ab3-a79c-1fd07cf4dd47",
   "metadata": {},
   "outputs": [
    {
     "data": {
      "text/plain": [
       "True"
      ]
     },
     "execution_count": 29,
     "metadata": {},
     "output_type": "execute_result"
    }
   ],
   "source": [
    "np.allclose(np.dot(coeff,x_vector),r)"
   ]
  },
  {
   "cell_type": "markdown",
   "id": "92ced23c-f49c-4263-a25e-7532dbf77691",
   "metadata": {},
   "source": [
    "Our results are correct!"
   ]
  },
  {
   "cell_type": "markdown",
   "id": "de3eeb22-be47-4a78-bc5e-b91d7c5b0e45",
   "metadata": {},
   "source": [
    "## Hands-on"
   ]
  },
  {
   "cell_type": "code",
   "execution_count": null,
   "id": "e55252ed-c22f-40c0-a85f-77343401c345",
   "metadata": {},
   "outputs": [],
   "source": [
    "# Task 1 - Create 2 6-elements vectors full of random values between 0 and 1 and calculate their dot product\n"
   ]
  },
  {
   "cell_type": "code",
   "execution_count": null,
   "id": "6abb4480-93d1-4fe9-ad6b-5e08c4cbd1b6",
   "metadata": {},
   "outputs": [],
   "source": [
    "# Task 2 - Solve the following system of equations and check that your result is correct using np.allclose\n",
    "\"\"\"\n",
    "3*x1+4*x2+2*x3 = 47\n",
    "6*x1-4*x2+1*x3 = 31\n",
    "1*x1+1*x2-1*x3 = 6\n",
    "\"\"\"\n"
   ]
  }
 ],
 "metadata": {
  "kernelspec": {
   "display_name": "Python 3 (ipykernel)",
   "language": "python",
   "name": "python3"
  },
  "language_info": {
   "codemirror_mode": {
    "name": "ipython",
    "version": 3
   },
   "file_extension": ".py",
   "mimetype": "text/x-python",
   "name": "python",
   "nbconvert_exporter": "python",
   "pygments_lexer": "ipython3",
   "version": "3.11.7"
  }
 },
 "nbformat": 4,
 "nbformat_minor": 5
}
