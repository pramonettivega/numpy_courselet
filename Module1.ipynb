{
 "cells": [
  {
   "cell_type": "markdown",
   "id": "7692b5cd-92b4-4988-918b-934673be4dc8",
   "metadata": {},
   "source": [
    "# Getting Started with NumPy\n",
    "\n",
    "In this notebook, we are going to perform some basic numpy operations. "
   ]
  },
  {
   "cell_type": "markdown",
   "id": "28234eea-a96e-47a2-8b5f-43eeb4e7c6c1",
   "metadata": {},
   "source": [
    "## What is a NumPy array?\n",
    "\n",
    "According to NumPy documentation, an array \"is a grid of values and it contains information about the raw data, how to locate an element, and how to interpret an element. It has a grid of elements that can be indexed in various ways\".\n",
    "\n",
    "## Hands-On\n",
    "\n",
    "**Installing NumPy**\n",
    "\n",
    "In case that NumPy is not yet installed in your system, run the following line of code."
   ]
  },
  {
   "cell_type": "code",
   "execution_count": 1,
   "id": "7bf44146-d83a-4973-ad88-366f0617eff3",
   "metadata": {},
   "outputs": [
    {
     "name": "stdout",
     "output_type": "stream",
     "text": [
      "Requirement already satisfied: numpy in c:\\users\\pramonettivega\\appdata\\local\\packages\\pythonsoftwarefoundation.python.3.11_qbz5n2kfra8p0\\localcache\\local-packages\\python311\\site-packages (1.26.1)\n"
     ]
    }
   ],
   "source": [
    "!pip install numpy"
   ]
  },
  {
   "cell_type": "markdown",
   "id": "b11783ea-01c0-480d-8c6e-11fd67ce1d6a",
   "metadata": {},
   "source": [
    "Once the library has been properly installed, we can import it to our environment. It is highly recommended to follow the following convention:"
   ]
  },
  {
   "cell_type": "code",
   "execution_count": 2,
   "id": "e75eb502-bc1d-43a1-92ce-6a335e76fe01",
   "metadata": {},
   "outputs": [],
   "source": [
    "import numpy as np"
   ]
  },
  {
   "cell_type": "markdown",
   "id": "c444ae8f-26c8-45b5-935e-e77b8d638f1b",
   "metadata": {},
   "source": [
    "**Create a simple 1D array**\n",
    "\n",
    "The following functions are examples on how to create basic 1D arrays. "
   ]
  },
  {
   "cell_type": "code",
   "execution_count": 3,
   "id": "97f08f50-3055-48b5-a5b8-65a11d0c5934",
   "metadata": {},
   "outputs": [
    {
     "data": {
      "text/plain": [
       "array([0, 1, 2, 3, 4, 5])"
      ]
     },
     "execution_count": 3,
     "metadata": {},
     "output_type": "execute_result"
    }
   ],
   "source": [
    "# Simple array from range: The function returns a numpy array with values from 0 to the specified index, non-inclusive.\n",
    "simple_array = np.arange(6)\n",
    "simple_array"
   ]
  },
  {
   "cell_type": "code",
   "execution_count": 4,
   "id": "b3afb97c-6ecb-4a74-ae22-fc71ca58d2de",
   "metadata": {},
   "outputs": [
    {
     "data": {
      "text/plain": [
       "array([0.37725604, 0.60447049, 0.49823423, 0.08601617, 0.43911638,\n",
       "       0.9804707 , 0.38454809, 0.04451509, 0.59271706, 0.64948836])"
      ]
     },
     "execution_count": 4,
     "metadata": {},
     "output_type": "execute_result"
    }
   ],
   "source": [
    "# Random array: The function returns a numpy array with the specified shape filled with random float values between 0 and 1.\n",
    "random_array = np.random.rand(10)\n",
    "random_array"
   ]
  },
  {
   "cell_type": "code",
   "execution_count": 5,
   "id": "1595a8fe-7dc6-4072-857f-9ea8d501d22f",
   "metadata": {},
   "outputs": [
    {
     "data": {
      "text/plain": [
       "array([2, 4, 6])"
      ]
     },
     "execution_count": 5,
     "metadata": {},
     "output_type": "execute_result"
    }
   ],
   "source": [
    "# Array from list: The function transforms a python list into a numpy array.\n",
    "list_a = [2,4,6]\n",
    "array_a = np.array(list_a)\n",
    "array_a"
   ]
  },
  {
   "cell_type": "code",
   "execution_count": 6,
   "id": "22bb7e6c-1b55-45b8-819b-5870f94066db",
   "metadata": {},
   "outputs": [
    {
     "data": {
      "text/plain": [
       "[2, 4, 6]"
      ]
     },
     "execution_count": 6,
     "metadata": {},
     "output_type": "execute_result"
    }
   ],
   "source": [
    "# We can also do the inverse task: transform an array into a list\n",
    "array_a.tolist()"
   ]
  },
  {
   "cell_type": "code",
   "execution_count": 7,
   "id": "1cb5931a-03b0-4a39-9dba-6e586ddb94f7",
   "metadata": {},
   "outputs": [
    {
     "data": {
      "text/plain": [
       "array([1, 3, 5])"
      ]
     },
     "execution_count": 7,
     "metadata": {},
     "output_type": "execute_result"
    }
   ],
   "source": [
    "# We can execute previous function directly\n",
    "array_b = np.array([1,3,5])\n",
    "array_b"
   ]
  },
  {
   "cell_type": "code",
   "execution_count": 8,
   "id": "f880fb69-7a13-4ac5-b62b-822ac118ea14",
   "metadata": {},
   "outputs": [
    {
     "data": {
      "text/plain": [
       "array([0., 0., 0., 0., 0.])"
      ]
     },
     "execution_count": 8,
     "metadata": {},
     "output_type": "execute_result"
    }
   ],
   "source": [
    "# An array of 0's: The function returns an array with X number of 0's\n",
    "zeros_array = np.zeros(5)\n",
    "zeros_array"
   ]
  },
  {
   "cell_type": "code",
   "execution_count": 9,
   "id": "15a75ac8-d368-4b84-8196-bc42e1ca6e08",
   "metadata": {},
   "outputs": [
    {
     "data": {
      "text/plain": [
       "array([ True,  True,  True,  True,  True])"
      ]
     },
     "execution_count": 9,
     "metadata": {},
     "output_type": "execute_result"
    }
   ],
   "source": [
    "# Full custom array: The function returns an array full of our specified value. In this example, we are using the boolean True.\n",
    "full_array = np.full((5),True)\n",
    "full_array"
   ]
  },
  {
   "cell_type": "markdown",
   "id": "b74d7100-9e03-40e7-a862-07e5b7d2d399",
   "metadata": {},
   "source": [
    "**Exploring Arrays**"
   ]
  },
  {
   "cell_type": "code",
   "execution_count": 10,
   "id": "17e54816-33c4-4038-bc30-620c23c5e5eb",
   "metadata": {},
   "outputs": [
    {
     "name": "stdout",
     "output_type": "stream",
     "text": [
      "Our random array has 10 elements\n",
      "Our zeros array has 5 elements\n"
     ]
    }
   ],
   "source": [
    "# We can check the number of elements in an array\n",
    "print(f\"Our random array has {len(random_array)} elements\")\n",
    "print(f\"Our zeros array has {len(zeros_array)} elements\")"
   ]
  },
  {
   "cell_type": "code",
   "execution_count": 11,
   "id": "95d1eb54-4a1f-476e-94a9-25bba944e8c4",
   "metadata": {},
   "outputs": [
    {
     "name": "stdout",
     "output_type": "stream",
     "text": [
      "The size of our random array is 8\n"
     ]
    }
   ],
   "source": [
    "# We can also check the size of the array in bites\n",
    "print(f\"The size of our random array is {random_array.itemsize}\")"
   ]
  },
  {
   "cell_type": "code",
   "execution_count": 12,
   "id": "6733729a-cb96-45f1-a3ee-df39beaa3b8f",
   "metadata": {},
   "outputs": [
    {
     "data": {
      "text/plain": [
       "0.9804707025025707"
      ]
     },
     "execution_count": 12,
     "metadata": {},
     "output_type": "execute_result"
    }
   ],
   "source": [
    "# Similar to lists, we can access values by index\n",
    "random_array[5] #6th element of the random_array"
   ]
  },
  {
   "cell_type": "markdown",
   "id": "7bb76822-eac0-4fcb-9726-6316ec90e063",
   "metadata": {},
   "source": [
    "**Create Simple 2D Arrays**\n",
    "\n",
    "Most of the functions we explored earlier are not limited to the creation of 1D arrays. In fact, the first argument of most of those functions is the shape of our array. Therefore, we can use this argument to create custom shape arrays. Let's create some 2D arrays. "
   ]
  },
  {
   "cell_type": "code",
   "execution_count": null,
   "id": "b4fc45ff-fc23-4b1c-9ea1-f5b576ba8ebc",
   "metadata": {},
   "outputs": [],
   "source": []
  },
  {
   "cell_type": "code",
   "execution_count": null,
   "id": "5fc7d1bb-9966-4c9c-8c62-c003963fbd1e",
   "metadata": {},
   "outputs": [],
   "source": []
  },
  {
   "cell_type": "code",
   "execution_count": null,
   "id": "019056dc-a0ec-4e39-bc8d-6a682e78603e",
   "metadata": {},
   "outputs": [],
   "source": []
  },
  {
   "cell_type": "code",
   "execution_count": null,
   "id": "8a4c8a63-6939-45da-b7b0-c03108846f9c",
   "metadata": {},
   "outputs": [],
   "source": []
  },
  {
   "cell_type": "markdown",
   "id": "1e718351-da4e-430f-a784-8f2c995b7d67",
   "metadata": {},
   "source": [
    "There are many other functions you can explore to create arrays accoding to what you need. Take a look at the following link and explore some of these functions:\n",
    "\n",
    "https://numpy.org/doc/stable/reference/routines.array-creation.html\n",
    "\n",
    "### Sources\n",
    "\n",
    "* https://numpy.org/doc/stable/user/absolute_beginners.html"
   ]
  },
  {
   "cell_type": "code",
   "execution_count": null,
   "id": "14b80b1d-f224-44ae-93e0-d30e1fd04f2a",
   "metadata": {},
   "outputs": [],
   "source": []
  }
 ],
 "metadata": {
  "kernelspec": {
   "display_name": "Python 3 (ipykernel)",
   "language": "python",
   "name": "python3"
  },
  "language_info": {
   "codemirror_mode": {
    "name": "ipython",
    "version": 3
   },
   "file_extension": ".py",
   "mimetype": "text/x-python",
   "name": "python",
   "nbconvert_exporter": "python",
   "pygments_lexer": "ipython3",
   "version": "3.11.6"
  }
 },
 "nbformat": 4,
 "nbformat_minor": 5
}
