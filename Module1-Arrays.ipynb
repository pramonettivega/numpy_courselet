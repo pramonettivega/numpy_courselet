{
 "cells": [
  {
   "cell_type": "markdown",
   "id": "7692b5cd-92b4-4988-918b-934673be4dc8",
   "metadata": {},
   "source": [
    "# Getting Started with NumPy - Module 1\n",
    "\n",
    "In this notebook, we are going to explore the main NumPy object, the NumPy array. By the end of this module you will be able to:\n",
    "\n",
    "* Identify what is a NumPy array\n",
    "* Create array using multiple methods and functions, according to the type of array that you need.\n",
    "* Create arrays of multiple dimensions"
   ]
  },
  {
   "cell_type": "markdown",
   "id": "28234eea-a96e-47a2-8b5f-43eeb4e7c6c1",
   "metadata": {},
   "source": [
    "## What is a NumPy array?\n",
    "\n",
    "According to NumPy documentation, an array \"is a grid of values and it contains information about the raw data, how to locate an element, and how to interpret an element. It has a grid of elements that can be indexed in various ways\".\n",
    "\n",
    "**Installing NumPy**\n",
    "\n",
    "In case that NumPy is not yet installed in your system, run the following line of code."
   ]
  },
  {
   "cell_type": "code",
   "execution_count": null,
   "id": "7bf44146-d83a-4973-ad88-366f0617eff3",
   "metadata": {},
   "outputs": [],
   "source": [
    "!pip install numpy"
   ]
  },
  {
   "cell_type": "markdown",
   "id": "b11783ea-01c0-480d-8c6e-11fd67ce1d6a",
   "metadata": {},
   "source": [
    "Once the library has been properly installed, we can import it to our environment. It is highly recommended to follow the following convention:"
   ]
  },
  {
   "cell_type": "code",
   "execution_count": null,
   "id": "e75eb502-bc1d-43a1-92ce-6a335e76fe01",
   "metadata": {},
   "outputs": [],
   "source": [
    "import numpy as np"
   ]
  },
  {
   "cell_type": "markdown",
   "id": "c444ae8f-26c8-45b5-935e-e77b8d638f1b",
   "metadata": {},
   "source": [
    "**Create a simple 1D array**\n",
    "\n",
    "The following functions are examples on how to create basic 1D arrays. "
   ]
  },
  {
   "cell_type": "code",
   "execution_count": null,
   "id": "ea206f87-85b9-43b7-b20e-deeaef1026c9",
   "metadata": {},
   "outputs": [],
   "source": [
    "# Array from list: The function transforms a python list into a numpy array.\n",
    "list_a = [2,4,6]\n",
    "array_a = np.array(list_a)\n",
    "array_a"
   ]
  },
  {
   "cell_type": "code",
   "execution_count": null,
   "id": "656852cc-7be6-4da9-b126-c2cbae05c468",
   "metadata": {},
   "outputs": [],
   "source": [
    "# We can also do the inverse task: transform an array into a list\n",
    "array_a.tolist()"
   ]
  },
  {
   "cell_type": "code",
   "execution_count": null,
   "id": "97f08f50-3055-48b5-a5b8-65a11d0c5934",
   "metadata": {},
   "outputs": [],
   "source": [
    "# Simple array from range: The function returns a numpy array with values from 0 to the specified index, non-inclusive.\n",
    "simple_array = np.arange(10)\n",
    "simple_array"
   ]
  },
  {
   "cell_type": "code",
   "execution_count": null,
   "id": "b3afb97c-6ecb-4a74-ae22-fc71ca58d2de",
   "metadata": {},
   "outputs": [],
   "source": [
    "# Random array: The function returns a numpy array with the specified shape filled with random float values between 0 and 1.\n",
    "random_array = np.random.rand(10)\n",
    "random_array"
   ]
  },
  {
   "cell_type": "code",
   "execution_count": null,
   "id": "22bb7e6c-1b55-45b8-819b-5870f94066db",
   "metadata": {},
   "outputs": [],
   "source": [
    "# We can also do the inverse task: transform an array into a list\n",
    "array_a.tolist()"
   ]
  },
  {
   "cell_type": "code",
   "execution_count": null,
   "id": "f880fb69-7a13-4ac5-b62b-822ac118ea14",
   "metadata": {},
   "outputs": [],
   "source": [
    "# An array of 0's: The function returns an array with X number of 0's\n",
    "zeros_array = np.zeros(5)\n",
    "zeros_array"
   ]
  },
  {
   "cell_type": "code",
   "execution_count": null,
   "id": "15a75ac8-d368-4b84-8196-bc42e1ca6e08",
   "metadata": {},
   "outputs": [],
   "source": [
    "# Full custom array: The function returns an array where all of the elements correspond to the same object of the same data type. \n",
    "# In this example, we are using the boolean True.\n",
    "full_array = np.full((5),True)\n",
    "full_array"
   ]
  },
  {
   "cell_type": "markdown",
   "id": "b74d7100-9e03-40e7-a862-07e5b7d2d399",
   "metadata": {},
   "source": [
    "**Exploring Arrays, Manipulation, Indexing and Slicing**"
   ]
  },
  {
   "cell_type": "code",
   "execution_count": null,
   "id": "17e54816-33c4-4038-bc30-620c23c5e5eb",
   "metadata": {},
   "outputs": [],
   "source": [
    "# We can check the number of elements in an array\n",
    "print(f\"Our random array has {len(random_array)} elements\")\n",
    "print(f\"Our zeros array has {len(zeros_array)} elements\")"
   ]
  },
  {
   "cell_type": "code",
   "execution_count": null,
   "id": "95d1eb54-4a1f-476e-94a9-25bba944e8c4",
   "metadata": {},
   "outputs": [],
   "source": [
    "# We can also check the size of the array in bites\n",
    "print(f\"The size of our random array is {random_array.itemsize}\")"
   ]
  },
  {
   "cell_type": "code",
   "execution_count": null,
   "id": "6733729a-cb96-45f1-a3ee-df39beaa3b8f",
   "metadata": {},
   "outputs": [],
   "source": [
    "# Similar to lists, we can access values by index\n",
    "simple_array[5] #6th element of the random_array"
   ]
  },
  {
   "cell_type": "code",
   "execution_count": null,
   "id": "f4946c0f-9c8e-4819-b51e-43ec179e31e5",
   "metadata": {},
   "outputs": [],
   "source": [
    "# Also similar to lists, we can slice our array. For example, from indexes 1 to 4\n",
    "simple_array[1:4]"
   ]
  },
  {
   "cell_type": "code",
   "execution_count": null,
   "id": "02f479f3-1980-49bb-922a-367149841c95",
   "metadata": {},
   "outputs": [],
   "source": [
    "# We can also define steps [start:end:step]\n",
    "simple_array[1:8:2]"
   ]
  },
  {
   "cell_type": "code",
   "execution_count": null,
   "id": "c2e38421-6c6a-4d28-8e92-1f31a708686c",
   "metadata": {},
   "outputs": [],
   "source": [
    "# Or we can exchange values by the index\n",
    "simple_array[0], simple_array[1] = simple_array[1], simple_array[0]\n",
    "simple_array"
   ]
  },
  {
   "cell_type": "code",
   "execution_count": null,
   "id": "987d5e92-242b-44f8-a5f1-b540eb196359",
   "metadata": {},
   "outputs": [],
   "source": [
    "# Given a condition, we can also keep certain elements of an array. For example, let's keep only the no-odd elements\n",
    "no_odds_array = simple_array[simple_array % 2==0]\n",
    "no_odds_array"
   ]
  },
  {
   "cell_type": "code",
   "execution_count": null,
   "id": "00dbc1eb-3886-4035-a178-d8409ca3bd0d",
   "metadata": {},
   "outputs": [],
   "source": [
    "# Reverse our array\n",
    "simple_array[::-1]"
   ]
  },
  {
   "cell_type": "code",
   "execution_count": null,
   "id": "c8396a6c-9ae7-4d90-b5d1-140ba79edc5d",
   "metadata": {},
   "outputs": [],
   "source": [
    "# Reverse AND slice our array. As you will observe in the output, the array is first reversed, \n",
    "# and then the slicing is performed over the reversed array\n",
    "simple_array[::-1][1:8:2]"
   ]
  },
  {
   "cell_type": "code",
   "execution_count": null,
   "id": "e8a65857-e085-4451-95d8-e8ee65d4b6cc",
   "metadata": {},
   "outputs": [],
   "source": [
    "# An interesting feature of the arrays is the possibility to slice them based on a condition. For example, let's use our random array and\n",
    "# return an array with the elements higher than 0.5\n",
    "random_array[random_array>0.5]"
   ]
  },
  {
   "cell_type": "markdown",
   "id": "7aa85030-77f1-4a05-8d3b-540207e481cb",
   "metadata": {},
   "source": [
    "You're invited to explore more techniques to index your and explore arrays."
   ]
  },
  {
   "cell_type": "markdown",
   "id": "7bb76822-eac0-4fcb-9726-6316ec90e063",
   "metadata": {},
   "source": [
    "**Create Simple 2D Arrays**\n",
    "\n",
    "Most of the functions we explored earlier are not limited to the creation of 1D arrays. We can customize the shape of our arrays according to the type of data we are working with. Let's create some 2D arrays. "
   ]
  },
  {
   "cell_type": "code",
   "execution_count": null,
   "id": "b4fc45ff-fc23-4b1c-9ea1-f5b576ba8ebc",
   "metadata": {},
   "outputs": [],
   "source": [
    "#2D Array from list - From a list of lists, we are creating an array of arrays (that's what makes it 2D)\n",
    "twoD_array = np.array([[1 , 2, 3, 4], [5, 6, 7, 8], [9, 10, 11, 12]])\n",
    "twoD_array"
   ]
  },
  {
   "cell_type": "code",
   "execution_count": null,
   "id": "b6134880-2785-4842-b72f-9e127f9a6d41",
   "metadata": {},
   "outputs": [],
   "source": [
    "# We can confirm the dimensions\n",
    "twoD_array.ndim"
   ]
  },
  {
   "cell_type": "code",
   "execution_count": null,
   "id": "09a42299-fa1a-42f9-9a3a-39a5c058a5a0",
   "metadata": {},
   "outputs": [],
   "source": [
    "# We can also call elements in our array by index\n",
    "twoD_array[2][3]"
   ]
  },
  {
   "cell_type": "code",
   "execution_count": null,
   "id": "019056dc-a0ec-4e39-bc8d-6a682e78603e",
   "metadata": {},
   "outputs": [],
   "source": [
    "# Random 2D Array\n",
    "random_2Darray = np.random.rand(10,2)\n",
    "random_2Darray"
   ]
  },
  {
   "cell_type": "code",
   "execution_count": null,
   "id": "8a4c8a63-6939-45da-b7b0-c03108846f9c",
   "metadata": {},
   "outputs": [],
   "source": [
    "#Full custom 2D Array\n",
    "full_2Darray = np.full((5,3),\"Hello World!\")\n",
    "full_2Darray"
   ]
  },
  {
   "cell_type": "markdown",
   "id": "c5bc1fc4-9356-4f27-9ac3-caecbe72eac5",
   "metadata": {},
   "source": [
    "**Exploring Arrays, Indexing and Slicing**"
   ]
  },
  {
   "cell_type": "code",
   "execution_count": null,
   "id": "4d178461-fd69-4759-9a22-044bcf89ccde",
   "metadata": {},
   "outputs": [],
   "source": [
    "# Accesing and individual element. In this example, element 2,1 from our twoD_array.\n",
    "twoD_array[2,1] # We are first accesing the row index 2 of the main array [9,10,11,12], and then accesing the element index 1 [10]"
   ]
  },
  {
   "cell_type": "code",
   "execution_count": null,
   "id": "66926c30-e7b3-43e5-9e16-6581b19050ed",
   "metadata": {},
   "outputs": [],
   "source": [
    "# We can also slice rows. For example, here we slice the first two rows\n",
    "twoD_array[0:2]"
   ]
  },
  {
   "cell_type": "code",
   "execution_count": null,
   "id": "c59f134b-3218-4272-8c7e-bcb871b8ee41",
   "metadata": {},
   "outputs": [],
   "source": [
    "# All rows and 2nd,3rd column\n",
    "twoD_array[:,1:3]"
   ]
  },
  {
   "cell_type": "markdown",
   "id": "1e718351-da4e-430f-a784-8f2c995b7d67",
   "metadata": {},
   "source": [
    "## Discover more\n",
    "\n",
    "There are many other functions you can explore to create different types of arrays. Take a look at the following link and explore some of these functions:\n",
    "\n",
    "[NumPy Documentation](https://numpy.org/doc/stable/reference/routines.array-creation.html)"
   ]
  },
  {
   "cell_type": "markdown",
   "id": "838a2df7-5334-496e-ad61-92987f837468",
   "metadata": {},
   "source": [
    "## Hands-on\n",
    "\n",
    "Now it is your turn to create some arrays by your own. Some of the tasks require you to explore some functions not covered in this module."
   ]
  },
  {
   "cell_type": "code",
   "execution_count": null,
   "id": "b9828d89-c0a6-41d6-91b2-71a4178a48c5",
   "metadata": {},
   "outputs": [],
   "source": [
    "# Task 1 - Create 2D array of random values between 0 and 1\n"
   ]
  },
  {
   "cell_type": "code",
   "execution_count": null,
   "id": "dd5282ef-702e-4af7-8042-d9665392ce86",
   "metadata": {},
   "outputs": [],
   "source": [
    "# Task 2 - Create a simple 1D array with 12 random integers\n"
   ]
  },
  {
   "cell_type": "code",
   "execution_count": null,
   "id": "fb98b848-10de-4c30-ba11-0940b5842eef",
   "metadata": {},
   "outputs": [],
   "source": [
    "# Task 3 - Create a simple 3D array from a list\n"
   ]
  },
  {
   "cell_type": "code",
   "execution_count": null,
   "id": "b44930cd-2dc6-4cb5-a188-b1377f8481e0",
   "metadata": {},
   "outputs": [],
   "source": [
    "# Task 4 - Create a 4D array full of zeros \n"
   ]
  },
  {
   "cell_type": "code",
   "execution_count": null,
   "id": "aead99a7-b1cc-4dc1-b602-dad06deac785",
   "metadata": {},
   "outputs": [],
   "source": [
    "# Task 5 - Return the second and third columns of a 4x5 2D array\n"
   ]
  }
 ],
 "metadata": {
  "kernelspec": {
   "display_name": "Python 3 (ipykernel)",
   "language": "python",
   "name": "python3"
  },
  "language_info": {
   "codemirror_mode": {
    "name": "ipython",
    "version": 3
   },
   "file_extension": ".py",
   "mimetype": "text/x-python",
   "name": "python",
   "nbconvert_exporter": "python",
   "pygments_lexer": "ipython3",
   "version": "3.11.7"
  }
 },
 "nbformat": 4,
 "nbformat_minor": 5
}
