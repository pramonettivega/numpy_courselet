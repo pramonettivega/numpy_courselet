{
 "cells": [
  {
   "cell_type": "markdown",
   "id": "cb4fe917-9173-48c6-a000-289564649b86",
   "metadata": {},
   "source": [
    "# Getting Started with NumPy - Module 2\n",
    "\n",
    "In the previous module, we explored some basic transformations like slicing and returning arrays based on conditions. In this module, we are going to explore into operations, by performing algebra functions to our arrays, as well as to explore how to perform linear algebra operations. By the end of this module you will be able to:\n",
    "\n",
    "* Learn how different transformations affect our arrays\n",
    "* Use functions to perform operations and transform arrays\n",
    "* Perform linear algebra operations on arrays"
   ]
  },
  {
   "cell_type": "code",
   "execution_count": null,
   "id": "95abb8e0-73bf-4fcd-bd81-070aa06a0da5",
   "metadata": {},
   "outputs": [],
   "source": [
    "import numpy as np"
   ]
  },
  {
   "cell_type": "code",
   "execution_count": null,
   "id": "1696bde9-ff48-4ed4-bf10-d88cad340e87",
   "metadata": {},
   "outputs": [],
   "source": [
    "# Let's first create a couple of simple arrays to start working on\n",
    "a = np.arange(10)\n",
    "b = np.arange(-5,5)\n",
    "twoD_a = np.array([[1 , 2, 3, 4], [5, 6, 7, 8], [9, 10, 11, 12]])\n",
    "twoD_b = np.full((3,4),2)\n",
    "print(f\"Array a: {a}\\n\")\n",
    "print(f\"Array b: {b}\\n\")\n",
    "print(f\"Array twoD_a:\\n {twoD_a}\\n\")\n",
    "print(f\"Array twoD_b:\\n {twoD_b}\")"
   ]
  },
  {
   "cell_type": "markdown",
   "id": "60e97031-57db-484c-ba3e-c6db4be0a5b3",
   "metadata": {},
   "source": [
    "## Basic Elementwise Operations\n",
    "\n",
    "The first type of operations we are going to explore are basic elementwise operations. This means that our operations affect one element of the array at a time. Let's take a brief look at some examples.\n",
    "\n",
    "- Add a value to all the elements of an array"
   ]
  },
  {
   "cell_type": "code",
   "execution_count": null,
   "id": "8cdc3da1-fb6b-43df-9502-397ea280f8ea",
   "metadata": {},
   "outputs": [],
   "source": [
    "a+3"
   ]
  },
  {
   "cell_type": "markdown",
   "id": "4e4fe342-6d2b-492c-b65d-9a5f74ec414e",
   "metadata": {},
   "source": [
    "- Multiply all elements of an array by the same factor"
   ]
  },
  {
   "cell_type": "code",
   "execution_count": null,
   "id": "8271e546-c660-43c9-9243-a6418d37a958",
   "metadata": {},
   "outputs": [],
   "source": [
    "a*2"
   ]
  },
  {
   "cell_type": "markdown",
   "id": "e00cc66b-a29e-4ef2-9199-36853adac94e",
   "metadata": {},
   "source": [
    "We can also perform elementwise operations between arrays. \n",
    "\n",
    "- Add two arrays"
   ]
  },
  {
   "cell_type": "code",
   "execution_count": null,
   "id": "5d2a80c0-20a3-48eb-a87f-8857977d5c06",
   "metadata": {},
   "outputs": [],
   "source": [
    "a+b"
   ]
  },
  {
   "cell_type": "markdown",
   "id": "d629ea92-fe68-4350-a11b-90dcf8c5720f",
   "metadata": {},
   "source": [
    "- Multiply two arrays"
   ]
  },
  {
   "cell_type": "code",
   "execution_count": null,
   "id": "fa9033ca-82db-4328-8ba5-085b3ff51c69",
   "metadata": {},
   "outputs": [],
   "source": [
    "a*b"
   ]
  },
  {
   "cell_type": "markdown",
   "id": "20cbd990-1000-4cc5-96a5-2f01aff9cf59",
   "metadata": {},
   "source": [
    "These operations also apply to multidimensional arrays."
   ]
  },
  {
   "cell_type": "code",
   "execution_count": null,
   "id": "2b800299-6f94-45ae-b6bd-fa157a2d1d2f",
   "metadata": {},
   "outputs": [],
   "source": [
    "# Add a value\n",
    "print(twoD_a+3,\"\\n\")\n",
    "\n",
    "# Multiply all elements by a single value\n",
    "print(twoD_a*2, \"\\n\")\n",
    "\n",
    "# Add two arrays \n",
    "print(twoD_a+twoD_b, \"\\n\")\n",
    "\n",
    "# Multiply two arrays \n",
    "print(twoD_a*twoD_b)"
   ]
  },
  {
   "cell_type": "markdown",
   "id": "46d52791-2fa2-4fe0-8aa9-170f77fbbf4b",
   "metadata": {},
   "source": [
    "NumPy also offers a series of functions to perform elementwise operations, either to a single array or between multiple arrays. Let's take a look at a couple of examples.\n",
    "\n",
    "- Square Root"
   ]
  },
  {
   "cell_type": "code",
   "execution_count": null,
   "id": "7f5ffd12-d028-42e3-906c-17e2c2a06fe9",
   "metadata": {},
   "outputs": [],
   "source": [
    "np.sqrt(a)"
   ]
  },
  {
   "cell_type": "markdown",
   "id": "a441bec3-4a26-4550-8bf0-fa587e8d1121",
   "metadata": {},
   "source": [
    "- Exponential Function"
   ]
  },
  {
   "cell_type": "code",
   "execution_count": null,
   "id": "58515e03-a2af-4a00-93f7-9108ebc96192",
   "metadata": {},
   "outputs": [],
   "source": [
    "np.exp(a)"
   ]
  },
  {
   "cell_type": "markdown",
   "id": "cdf15f35-6638-48d0-8315-038a76ce9550",
   "metadata": {},
   "source": [
    "- Logarithm"
   ]
  },
  {
   "cell_type": "code",
   "execution_count": null,
   "id": "02d2fe2a-9e1b-48fb-9c39-41955e17d4ab",
   "metadata": {},
   "outputs": [],
   "source": [
    "np.log(a[1:]) # We are omitting the application of the function to the first value as this is not mathematically correct"
   ]
  },
  {
   "cell_type": "markdown",
   "id": "a244ab8e-7d31-4d43-9cb6-e1f3f9e1c08a",
   "metadata": {},
   "source": [
    "- Multiply two arrays"
   ]
  },
  {
   "cell_type": "code",
   "execution_count": null,
   "id": "06fc5d4c-b4b3-4bbc-a303-12de64d02f44",
   "metadata": {},
   "outputs": [],
   "source": [
    "np.multiply(a,b)"
   ]
  },
  {
   "cell_type": "markdown",
   "id": "5929ad79-e3db-4fb9-92fe-cd35acf8ff57",
   "metadata": {},
   "source": [
    "- Raise elements of one array to the powers of the second array"
   ]
  },
  {
   "cell_type": "code",
   "execution_count": null,
   "id": "5c26f4c1-08ad-4802-9cc6-2b56ea68a748",
   "metadata": {},
   "outputs": [],
   "source": [
    "np.float_power(b,a)"
   ]
  },
  {
   "cell_type": "markdown",
   "id": "8bc25020-707c-4011-bc2a-270d9e47bfa6",
   "metadata": {},
   "source": [
    "## Reduction Operations\n",
    "\n",
    "We can also perform operations that reduce the number of elements of our array. Let's take a look to a few examples in which our results reduce to a single value.\n",
    "\n",
    "- Sum of the elements of an array"
   ]
  },
  {
   "cell_type": "code",
   "execution_count": null,
   "id": "a2dacc83-2828-43ae-a9bf-15ba7e7f7877",
   "metadata": {},
   "outputs": [],
   "source": [
    "np.sum(a)"
   ]
  },
  {
   "cell_type": "markdown",
   "id": "2d9a4f57-5d65-4e8d-beec-3fa2d7966c3d",
   "metadata": {},
   "source": [
    "- Max value of an array"
   ]
  },
  {
   "cell_type": "code",
   "execution_count": null,
   "id": "db3506ed-75b7-4e10-86a9-f320dbdfd3db",
   "metadata": {},
   "outputs": [],
   "source": [
    "np.max(a)"
   ]
  },
  {
   "cell_type": "markdown",
   "id": "60dfb3ee-a5f0-4b3e-a403-57615c8b7366",
   "metadata": {},
   "source": [
    "- Mean of the values of an array"
   ]
  },
  {
   "cell_type": "code",
   "execution_count": null,
   "id": "ace455c8-10c9-4eb6-b6d9-781e00ae4d1f",
   "metadata": {},
   "outputs": [],
   "source": [
    "np.mean(a)"
   ]
  },
  {
   "cell_type": "markdown",
   "id": "49f17765-0998-4c3f-9f6f-f2200a4b2c1e",
   "metadata": {},
   "source": [
    "Previous examples only cover the case of 1D arrays returning a single value. In the case of multiple dimensional arrays, we can provide more specifications to our functions to return different results. Let's take a look at this with the **sum** function. "
   ]
  },
  {
   "cell_type": "markdown",
   "id": "c5774e6d-a69d-49e6-9c1c-72f120387577",
   "metadata": {},
   "source": [
    "- Sum of the elements of an array (as previously explored)"
   ]
  },
  {
   "cell_type": "code",
   "execution_count": null,
   "id": "19c1b2b3-1741-4173-ab93-8dffbf6415de",
   "metadata": {},
   "outputs": [],
   "source": [
    "np.sum(twoD_a) # We sum all the values"
   ]
  },
  {
   "cell_type": "markdown",
   "id": "e4dcf64c-cd4e-4dc8-a2d4-5bed60090e7d",
   "metadata": {},
   "source": [
    "- Sum of the elements of an array, \"column\" wise"
   ]
  },
  {
   "cell_type": "code",
   "execution_count": null,
   "id": "2adfeadd-d55b-4703-a629-74614077e3ea",
   "metadata": {},
   "outputs": [],
   "source": [
    "np.sum(twoD_a, axis=0) # Each value corresponds to the sum of each \"column\""
   ]
  },
  {
   "cell_type": "markdown",
   "id": "1d51e982-6635-49af-a2b6-da14a18b984c",
   "metadata": {},
   "source": [
    "- Sum of the elements of an array, \"row\" wise"
   ]
  },
  {
   "cell_type": "code",
   "execution_count": null,
   "id": "cf05f6fd-3034-4b19-b1a9-a6db9f0f4f46",
   "metadata": {},
   "outputs": [],
   "source": [
    "np.sum(twoD_a, axis=1) # Each value corresponds to the sum of each \"row\""
   ]
  },
  {
   "cell_type": "markdown",
   "id": "465aca01-4f16-414e-83e3-27f394bfd6e1",
   "metadata": {},
   "source": [
    "To take a deeper look into the full collection of mathematical operations, you can explore the [source documentation](https://numpy.org/doc/stable/reference/routines.math.html)"
   ]
  },
  {
   "cell_type": "markdown",
   "id": "2cd0064c-b76d-4fb3-8269-b4fe1c424cee",
   "metadata": {},
   "source": [
    "## Logic Operations\n",
    "\n",
    "Another common task is to perform logic operations on NumPy arrays and return an array of booleans with the result of each evaluation. The following are examples of elementwise logic operations.\n",
    "\n",
    "- Elements equal to one value"
   ]
  },
  {
   "cell_type": "code",
   "execution_count": null,
   "id": "a117608b-77b8-4615-b1ac-e390fe2fef00",
   "metadata": {},
   "outputs": [],
   "source": [
    "a==0"
   ]
  },
  {
   "cell_type": "markdown",
   "id": "55fc3a38-6ee1-470f-88c7-181d2625a7ec",
   "metadata": {},
   "source": [
    "- Elements greater than one value"
   ]
  },
  {
   "cell_type": "code",
   "execution_count": null,
   "id": "828e36db-6bce-4e62-8ae2-846587f19a46",
   "metadata": {},
   "outputs": [],
   "source": [
    "a>0"
   ]
  },
  {
   "cell_type": "markdown",
   "id": "67d24ca6-9067-402d-a08d-2581153b8d9c",
   "metadata": {},
   "source": [
    "- Compare if each element of one array (first argument )is greater than the corresponding element of another array (second argument)"
   ]
  },
  {
   "cell_type": "code",
   "execution_count": null,
   "id": "d6afe564-80f4-499e-bed2-a3cf3ff73c05",
   "metadata": {},
   "outputs": [],
   "source": [
    "np.greater(a,b)"
   ]
  },
  {
   "cell_type": "markdown",
   "id": "ba7d8bae-a851-46a2-8b88-b4e71e3363b9",
   "metadata": {},
   "source": [
    "Another type of logic operations are arraywise. These means that we compare two or more arrays as a whole to return a single boolean as a result. Let's see a few examples. \n",
    "\n",
    "- Compare if two arrays are equal"
   ]
  },
  {
   "cell_type": "code",
   "execution_count": null,
   "id": "3fa9ff3c-bd41-447c-a7bb-c1a344a951ec",
   "metadata": {},
   "outputs": [],
   "source": [
    "np.array_equal(np.array([0,1,2,3]),np.arange(4))"
   ]
  },
  {
   "cell_type": "markdown",
   "id": "6b964033-66a0-46b5-a0af-3d51e999043a",
   "metadata": {},
   "source": [
    "The full list of logic functions can be explored in the [source documentation](https://numpy.org/doc/stable/reference/routines.logic.html)"
   ]
  },
  {
   "cell_type": "markdown",
   "id": "b9165a26-abe3-4140-8113-f52d6fb44903",
   "metadata": {},
   "source": [
    "## Linear Algebra"
   ]
  },
  {
   "cell_type": "markdown",
   "id": "46b3cd58-46ec-407d-9098-14d9a3f3749a",
   "metadata": {},
   "source": [
    "Some of you might have already notice the potential to threat NumPy arrays as vectors and matrices for multiple modeling applications. NumPy possess a series of functions which allows us to perform multiple linear algebra operations. Let's explore some examples in the following cells. You're always invited to discover more functions by exploring the [source documentation](https://numpy.org/doc/stable/reference/routines.linalg.html#module-numpy.linalg).\n",
    "\n",
    "### Vector operations\n",
    "\n",
    "Let's explore some basic vector operations."
   ]
  },
  {
   "cell_type": "markdown",
   "id": "eb1eb7b8-fa54-4d61-a9c2-11b6cf5719fe",
   "metadata": {},
   "source": [
    "- [Dot Product](https://en.wikipedia.org/wiki/Dot_product)"
   ]
  },
  {
   "cell_type": "code",
   "execution_count": null,
   "id": "028760ce-ddc0-46ff-ab74-f935d54a1f60",
   "metadata": {},
   "outputs": [],
   "source": [
    "np.dot(a,b)"
   ]
  },
  {
   "cell_type": "markdown",
   "id": "b6024c89-4f65-4898-b58b-608f981e0d66",
   "metadata": {},
   "source": [
    "- [Outer Product](https://en.wikipedia.org/wiki/Outer_product)"
   ]
  },
  {
   "cell_type": "code",
   "execution_count": null,
   "id": "5908f3d5-ae57-4cdb-b6e9-770dcec29594",
   "metadata": {},
   "outputs": [],
   "source": [
    "np.outer(a,b)"
   ]
  },
  {
   "cell_type": "code",
   "execution_count": null,
   "id": "31eeb43b-3ca2-4d31-9c2c-a32c9a302f47",
   "metadata": {},
   "outputs": [],
   "source": [
    "# Inner product\n",
    "np.inner(a,b)"
   ]
  },
  {
   "cell_type": "markdown",
   "id": "d91a3b2d-c699-484a-b6d4-4aad6ba535af",
   "metadata": {},
   "source": [
    "### Matrix operations\n",
    "\n",
    "Now, let's take a look at some recurrent matrix operations.\n",
    "\n",
    "In a conventional NumPy multiplication, we can perform a multiplication in which each element is multiplied the corresponding element based on index. We can see that in the following cells. "
   ]
  },
  {
   "cell_type": "code",
   "execution_count": null,
   "id": "54842326-e92c-4905-b083-8d6c4368a026",
   "metadata": {},
   "outputs": [],
   "source": [
    "# Before showing the multiplication, we are going to create a couple of 3x4 \"matrices\"\n",
    "matrix_1 = np.arange(12)\n",
    "matrix_1.resize(3,4) # Using the resize method directly applies the transformation to our matrix\n",
    "print(matrix_1, \"\\n\")\n",
    "matrix_2 = np.arange(12,24).reshape(3,4) # Or we can apply reshape directly\n",
    "print(matrix_2)"
   ]
  },
  {
   "cell_type": "code",
   "execution_count": null,
   "id": "523b70fa-1376-4f70-8645-a7be732f4d72",
   "metadata": {},
   "outputs": [],
   "source": [
    "# Conventional array multiplication\n",
    "matrix_1*matrix_2"
   ]
  },
  {
   "cell_type": "markdown",
   "id": "67af3cd8-6e33-428b-b2d1-9f8ec190db68",
   "metadata": {},
   "source": [
    "However, this type of multiplication doesn't follow the rules of linear algebra. To perform a proper matrix multiplication, we must use the *matmul* function."
   ]
  },
  {
   "cell_type": "code",
   "execution_count": null,
   "id": "21fb3405-c067-42f6-a2f3-e971744b616c",
   "metadata": {},
   "outputs": [],
   "source": [
    "# Matrix multiplication\n",
    "np.matmul(matrix_1,matrix_2)"
   ]
  },
  {
   "cell_type": "markdown",
   "id": "4944920c-ae84-432f-aa40-c7a7e71bedea",
   "metadata": {},
   "source": [
    "As you can see, we are getting an error. This is because the number of rows of columns of the first matrix is not equal to the number of rows of the second matrix, a fundamental rule of matrix multiplication. Let's reshape our matrix to perform matrix multiplication."
   ]
  },
  {
   "cell_type": "code",
   "execution_count": null,
   "id": "53882d43-cf6d-4ebf-bf62-0953dc2c7a58",
   "metadata": {},
   "outputs": [],
   "source": [
    "# Matrix multiplication\n",
    "matrix_3 = np.reshape(matrix_1,(4,3))\n",
    "np.matmul(matrix_3,matrix_2)"
   ]
  },
  {
   "cell_type": "markdown",
   "id": "5ba9404c-6af6-44ae-bec2-ab9a7ca22971",
   "metadata": {},
   "source": [
    "An opperation that we can actually perform with our original two matrices, is to calculate the [Kronecker product](https://en.wikipedia.org/wiki/Kronecker_product):"
   ]
  },
  {
   "cell_type": "code",
   "execution_count": null,
   "id": "1df4d67d-f4b0-4ec2-ad65-411df649b2cc",
   "metadata": {},
   "outputs": [],
   "source": [
    "# Kronecker product\n",
    "np.kron(matrix_1,matrix_2)"
   ]
  },
  {
   "cell_type": "code",
   "execution_count": null,
   "id": "47dc227a-9ec6-4621-b9c8-6f8cc96464de",
   "metadata": {},
   "outputs": [],
   "source": [
    "# Determinant of a matrix\n",
    "squared_matrix = np.array([[2,2],[5,-1]])\n",
    "np.linalg.det(squared_matrix)"
   ]
  },
  {
   "cell_type": "code",
   "execution_count": null,
   "id": "7d7528c8-e7cb-42f2-8765-585ef7aa5d29",
   "metadata": {},
   "outputs": [],
   "source": [
    "# Rank of a matrix\n",
    "np.linalg.matrix_rank(squared_matrix)"
   ]
  },
  {
   "cell_type": "code",
   "execution_count": null,
   "id": "141b89e3-c20c-4418-8ed3-9f62003714b0",
   "metadata": {},
   "outputs": [],
   "source": [
    "# Eigen values and eigen vectors - squared matrix\n",
    "eigen_result = np.linalg.eig(squared_matrix)\n",
    "print(f\"The eigen values of our squared matrix are {eigen_result[0]}\")\n",
    "print(f\"The eigen vectors of our squared matrix are {eigen_result[1]}\")"
   ]
  },
  {
   "cell_type": "code",
   "execution_count": null,
   "id": "61ed23c1-db7b-4b75-b206-ff389455dd17",
   "metadata": {},
   "outputs": [],
   "source": [
    "# Inverse of a matrix\n",
    "np.linalg.inv(squared_matrix)"
   ]
  },
  {
   "cell_type": "code",
   "execution_count": null,
   "id": "a2c869b1-fc57-49c1-b169-520393eb5f0e",
   "metadata": {},
   "outputs": [],
   "source": [
    "# Transpose of a matrix\n",
    "squared_matrix.T"
   ]
  },
  {
   "cell_type": "markdown",
   "id": "a8c88b43-54f2-46db-a79f-9b7af00790b0",
   "metadata": {},
   "source": [
    "### Solving linear equations\n",
    "\n",
    "We can now leverage what we have learned so far and use NumPy to solve a system of linear equations.\n",
    "\n",
    "Let's say we have the following system of equations: \n",
    "$$\n",
    "2x_1+3x_2=19\n",
    "$$\n",
    "$$\n",
    "x_1+x_2=7\n",
    "$$\n",
    "We can define our system in NumPy as a combination of a matrix containing the coefficients values, and one vector with our results values. Then, we can compute the values of $x_1$ and $x_2$ through the *linalg.solve* function."
   ]
  },
  {
   "cell_type": "code",
   "execution_count": null,
   "id": "dcda7585-f65a-411d-b6ed-9408186f9c0d",
   "metadata": {},
   "outputs": [],
   "source": [
    "coeff = np.array([[2,3],[1,1]])\n",
    "r = np.array([19,7])\n",
    "x_vector = np.linalg.solve(coeff,r)\n",
    "x_vector"
   ]
  },
  {
   "cell_type": "markdown",
   "id": "8f928773-073a-4299-8aaa-3ed68ccb6839",
   "metadata": {},
   "source": [
    "Our function solved that $x_1=2$ and $x_2=5$. We can verify our results computing the dot product between our x's vector and the coefficients matrix, and comparing the resulting vector with our results vector."
   ]
  },
  {
   "cell_type": "code",
   "execution_count": null,
   "id": "db4cd405-105b-4ab3-a79c-1fd07cf4dd47",
   "metadata": {},
   "outputs": [],
   "source": [
    "np.allclose(np.dot(coeff,x_vector),r)"
   ]
  },
  {
   "cell_type": "markdown",
   "id": "92ced23c-f49c-4263-a25e-7532dbf77691",
   "metadata": {},
   "source": [
    "Our results are correct!"
   ]
  },
  {
   "cell_type": "markdown",
   "id": "de3eeb22-be47-4a78-bc5e-b91d7c5b0e45",
   "metadata": {},
   "source": [
    "## Hands-on"
   ]
  },
  {
   "cell_type": "markdown",
   "id": "4d0b16a7-b9b9-461f-9cd0-13c21c4962d0",
   "metadata": {},
   "source": [
    "Task 1 - Create 2 6-elements vectors full of random values between 0 and 1 and calculate their dot product\n"
   ]
  },
  {
   "cell_type": "code",
   "execution_count": null,
   "id": "b6569aae-d8d0-417a-978c-b9b4e4894db9",
   "metadata": {},
   "outputs": [],
   "source": [
    "# Your code here"
   ]
  },
  {
   "cell_type": "markdown",
   "id": "92856d89-65fc-472a-afa1-5727025e61a7",
   "metadata": {},
   "source": [
    "Task 2 - Solve the following system of equations and check that your result is correct using np.allclose\n",
    "\n",
    "$$\n",
    "3x_1+4x_2+2x_3=19\n",
    "$$\n",
    "$$\n",
    "6x_1+4x_2+x_3=31\n",
    "$$\n",
    "$$\n",
    "x_1+x_2-x_3 = 6\n",
    "$$"
   ]
  },
  {
   "cell_type": "code",
   "execution_count": null,
   "id": "108ecc0e-9002-475e-a45b-d776d51261f6",
   "metadata": {},
   "outputs": [],
   "source": [
    "# Your code here"
   ]
  }
 ],
 "metadata": {
  "kernelspec": {
   "display_name": "Python 3 (ipykernel)",
   "language": "python",
   "name": "python3"
  },
  "language_info": {
   "codemirror_mode": {
    "name": "ipython",
    "version": 3
   },
   "file_extension": ".py",
   "mimetype": "text/x-python",
   "name": "python",
   "nbconvert_exporter": "python",
   "pygments_lexer": "ipython3",
   "version": "3.11.7"
  }
 },
 "nbformat": 4,
 "nbformat_minor": 5
}
